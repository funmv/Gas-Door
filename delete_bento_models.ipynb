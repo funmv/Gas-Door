{
 "cells": [
  {
   "cell_type": "code",
   "execution_count": 2,
   "id": "2b4fea1e",
   "metadata": {},
   "outputs": [],
   "source": [
    "import os\n",
    "\n",
    "def remove_first_word_and_execute(file_path):\n",
    "    with open(file_path, 'r') as file:\n",
    "        lines = file.readlines()\n",
    "\n",
    "    for line in lines:\n",
    "        words = line.split()\n",
    "        if len(words) > 0:\n",
    "            first_word = words[0]\n",
    "            if first_word.startswith(\"gasdoor:\"):\n",
    "                # bentoml models delete 명령 수행\n",
    "                command = f\"bentoml models delete -y {first_word}\"\n",
    "                os.system(command)\n",
    "                \n",
    "\n",
    "# 파일 경로 설정\n",
    "file_path = 'bento_delete.txt'\n",
    "\n",
    "# 함수 호출\n",
    "remove_first_word_and_execute(file_path)"
   ]
  },
  {
   "cell_type": "code",
   "execution_count": null,
   "id": "a92c5991",
   "metadata": {},
   "outputs": [],
   "source": [
    "import requests\n",
    "\n",
    "# Bentoml 서버 URL\n",
    "url = 'http://localhost:3010//predict_image'\n",
    "\n",
    "image_path = os.path.join('data','image','frame_0041_part_1_time_19.13.jpg')\n",
    "image = Image.open(image_path)"
   ]
  },
  {
   "cell_type": "code",
   "execution_count": null,
   "id": "aa3a0fd9",
   "metadata": {},
   "outputs": [],
   "source": [
    "\n",
    "# 요청을 보낼 데이터 (여기서는 빈 JSON 객체)\n",
    "data = {}\n",
    "\n",
    "# 요청 보내기\n",
    "response = requests.post(url, json=data)\n",
    "\n",
    "# 응답 처리\n",
    "if response.status_code == 200:\n",
    "    print(\"Response from server:\", response.text)\n",
    "else:\n",
    "    print(\"Error:\", response.status_code, response.text)"
   ]
  }
 ],
 "metadata": {
  "kernelspec": {
   "display_name": "Python 3 (ipykernel)",
   "language": "python",
   "name": "python3"
  },
  "language_info": {
   "codemirror_mode": {
    "name": "ipython",
    "version": 3
   },
   "file_extension": ".py",
   "mimetype": "text/x-python",
   "name": "python",
   "nbconvert_exporter": "python",
   "pygments_lexer": "ipython3",
   "version": "3.9.15"
  },
  "varInspector": {
   "cols": {
    "lenName": 16,
    "lenType": 16,
    "lenVar": 40
   },
   "kernels_config": {
    "python": {
     "delete_cmd_postfix": "",
     "delete_cmd_prefix": "del ",
     "library": "var_list.py",
     "varRefreshCmd": "print(var_dic_list())"
    },
    "r": {
     "delete_cmd_postfix": ") ",
     "delete_cmd_prefix": "rm(",
     "library": "var_list.r",
     "varRefreshCmd": "cat(var_dic_list()) "
    }
   },
   "types_to_exclude": [
    "module",
    "function",
    "builtin_function_or_method",
    "instance",
    "_Feature"
   ],
   "window_display": false
  }
 },
 "nbformat": 4,
 "nbformat_minor": 5
}
